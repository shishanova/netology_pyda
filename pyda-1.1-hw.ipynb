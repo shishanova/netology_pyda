{
 "cells": [
  {
   "cell_type": "markdown",
   "metadata": {},
   "source": [
    "**Задание 1**. Даны 2 строки: *long_phrase* и *short_phrase*. \n",
    "Напишите код, который проверяет действительно ли длинная фраза *long_phrase* длиннее короткой *short_phrase*. И выводит *True* или *False* в зависимости от результата сравнения."
   ]
  },
  {
   "cell_type": "code",
   "execution_count": 1,
   "metadata": {},
   "outputs": [],
   "source": [
    "long_phrase = 'Насколько проще было бы писать программы, если бы не заказчики'\n",
    "short_phrase = '640Кб должно хватить для любых задач. Билл Гейтс (по легенде)'"
   ]
  },
  {
   "cell_type": "code",
   "execution_count": 21,
   "metadata": {},
   "outputs": [
    {
     "data": {
      "text/plain": [
       "True"
      ]
     },
     "execution_count": 21,
     "metadata": {},
     "output_type": "execute_result"
    }
   ],
   "source": [
    "long_phrase = len('Насколько проще было бы писать программы, если бы не заказчики') \n",
    "short_phrase = len('640Кб должно хватить для любых задач. Билл Гейтс (по легенде)')\n",
    "long_phrase > short_phrase"
   ]
  },
  {
   "cell_type": "markdown",
   "metadata": {},
   "source": [
    "**Задание 2**. Дано значение объема файла в байтах. Напишите перевод этого значения в мегабайты в формате: \"*Объем файла равен 213.68Mb*\""
   ]
  },
  {
   "cell_type": "code",
   "execution_count": 32,
   "metadata": {},
   "outputs": [
    {
     "name": "stdout",
     "output_type": "stream",
     "text": [
      "Объем файла равен 231.67999935150146 Mb\n"
     ]
    }
   ],
   "source": [
    "a = 242934087\n",
    "b = a / 1048576\n",
    "print ('Объем файла равен', b,'Mb')"
   ]
  },
  {
   "cell_type": "markdown",
   "metadata": {},
   "source": [
    "**Задание 3**. Разработать приложение для определения знака зодиака по дате рождения. Пример:\n",
    "\n",
    "Введите месяц: март\n",
    "\n",
    "Введите число: 6\n",
    "\n",
    "Вывод:\n",
    "Рыбы"
   ]
  },
  {
   "cell_type": "code",
   "execution_count": 33,
   "metadata": {},
   "outputs": [
    {
     "name": "stdout",
     "output_type": "stream",
     "text": [
      "Введите месяц рождениямарт\n",
      "день6\n",
      "рыба\n"
     ]
    }
   ],
   "source": [
    "mounth = input('Введите месяц рождения')\n",
    "date = int(input('день'))\n",
    "if mounth == 'январь' and date <= 19 or mounth =='декабрь' and date >=21:\n",
    "    print('козерог')\n",
    "elif mounth =='январь' and date >=21 or mounth =='февраль' and date <=19 :\n",
    "    print ('водолей')\n",
    "elif mounth =='февраль' and date >=22 or mounth =='март' and date <=21:\n",
    "    print ('рыба')\n",
    "elif mounth =='март' and date >=22 or mounth =='апрель' and date <=21:\n",
    "    print ('овен')\n",
    "elif mounth =='апрель' and date >=22 or mounth =='май' and date <=21:\n",
    "    print ('телец')\n",
    "elif mounth =='май' and date >=22 or mounth =='июнь' and date <=21:\n",
    "    print ('близнецы')\n",
    "elif mounth =='июнь' and date >=22 or mounth =='июль' and date <=21:\n",
    "    print ('рак')\n",
    "elif mounth =='июль' and date >=22 or mounth =='август' and date <=21:\n",
    "    print ('лев')\n",
    "elif mounth =='август' and date >=22 or mounth =='сентябрь' and date <=21:\n",
    "    print ('дева')\n",
    "elif mounth =='сентябрь' and date >=22 or mounth =='октябрь' and date <=21:\n",
    "    print ('весы')\n",
    "elif mounth =='октябрь' and date >=22 or mounth =='ноябрь' and date <=20:\n",
    "    print ('скорпион')\n",
    "elif mounth =='ноябрь' and date >=21 or mounth =='декабрь' and date <=21:\n",
    "    print ('стрелец')\n",
    "else:\n",
    "    print('ошибка')          \n"
   ]
  },
  {
   "cell_type": "markdown",
   "metadata": {},
   "source": [
    "**Задание 4**. Нужно разработать приложение для финансового планирования.\n",
    "Приложение учитывает сколько уходит на ипотеку, \"на жизнь\" и сколько нужно отложить на пенсию.\n",
    "Пользователь вводит:\n",
    "- заработанную плату в месяц.\n",
    "- сколько процентов от ЗП уходит на ипотеку.\n",
    "- сколько процентов от ЗП уходит \"на жизнь\".\n",
    "- сколько раз приходит премия в год.\n",
    "\n",
    "Остальная часть заработанной платы откладывается на пенсию.\n",
    "\n",
    "Также пользователю приходит премия в размере зарплаты, от которой половина уходит на отпуск, а вторая половина откладывается.\n",
    "\n",
    "Программа должна учитывать сколько премий было в год.\n",
    "\n",
    "Нужно вывести сколько денег тратит пользователь на ипотеку и сколько он накопит за год.\n",
    "\n",
    "Пример:\n",
    "\n",
    "Введите заработанную плату в месяц: 100000\n",
    "\n",
    "Введите сколько процентов уходит на ипотеку: 30\n",
    "\n",
    "Введите сколько процентов уходит на жизнь: 50\n",
    "\n",
    "Введите количество премий за год: 2\n",
    "\n",
    "Вывод:\n",
    "На ипотеку было потрачено: 360000 рублей\n",
    "Было накоплено: 340000 рублей"
   ]
  },
  {
   "cell_type": "code",
   "execution_count": 31,
   "metadata": {
    "scrolled": true
   },
   "outputs": [
    {
     "name": "stdout",
     "output_type": "stream",
     "text": [
      "Введите заработную плату за месяц100000\n",
      "Введите сколько процентов уходит на ипотеку30\n",
      "Введите сколько процентов уходит на жизнь50\n",
      "Введите количество премий за год2\n",
      "на ипотеку было потречано 360000.0 рублей. Было накоплено 340000.0 рублей\n"
     ]
    }
   ],
   "source": [
    "salary = int(input('Введите заработную плату за месяц'))\n",
    "ipoteka = int(input('Введите сколько процентов уходит на ипотеку'))\n",
    "life = int(input('Введите сколько процентов уходит на жизнь'))\n",
    "prize = int(input('Введите количество премий за год'))\n",
    "d_ipoteka = (salary*12)*ipoteka/100\n",
    "d_life = (salary*12)*life/100\n",
    "sum_prize = (salary*prize)/2\n",
    "accum = salary*12 - d_ipoteka - d_life + sum_prize\n",
    "print('на ипотеку было потречано', d_ipoteka, 'рублей. Было накоплено', accum, 'рублей')"
   ]
  }
 ],
 "metadata": {
  "kernelspec": {
   "display_name": "Python 3",
   "language": "python",
   "name": "python3"
  },
  "language_info": {
   "codemirror_mode": {
    "name": "ipython",
    "version": 3
   },
   "file_extension": ".py",
   "mimetype": "text/x-python",
   "name": "python",
   "nbconvert_exporter": "python",
   "pygments_lexer": "ipython3",
   "version": "3.7.3"
  }
 },
 "nbformat": 4,
 "nbformat_minor": 2
}
