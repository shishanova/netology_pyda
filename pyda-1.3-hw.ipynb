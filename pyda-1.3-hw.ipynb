{
 "cells": [
  {
   "cell_type": "markdown",
   "metadata": {},
   "source": [
    "## Задание 1"
   ]
  },
  {
   "cell_type": "markdown",
   "metadata": {},
   "source": [
    "Дан список вида:"
   ]
  },
  {
   "cell_type": "code",
   "execution_count": 1,
   "metadata": {},
   "outputs": [],
   "source": [
    "data = [\n",
    "    [13, 25, 23, 34],\n",
    "    [45, 32, 44, 47],\n",
    "    [12, 33, 23, 95],\n",
    "    [13, 53, 34, 35]\n",
    "]"
   ]
  },
  {
   "cell_type": "markdown",
   "metadata": {},
   "source": [
    "Напишите функцию, которая возвращает сумму элементов на диагонали. Т. е. 13+32+23+35."
   ]
  },
  {
   "cell_type": "code",
   "execution_count": 2,
   "metadata": {},
   "outputs": [
    {
     "data": {
      "text/plain": [
       "103"
      ]
     },
     "execution_count": 2,
     "metadata": {},
     "output_type": "execute_result"
    }
   ],
   "source": [
    "def diag_sum(table):\n",
    "    total  = 0\n",
    "    for i, row in enumerate(table):\n",
    "        total+= row[i]\n",
    "    return total\n",
    "\n",
    "diag_sum(data)"
   ]
  },
  {
   "cell_type": "markdown",
   "metadata": {},
   "source": [
    "## Задание 2"
   ]
  },
  {
   "cell_type": "markdown",
   "metadata": {},
   "source": [
    "Дан список чисел, часть из которых имеют строковый тип или содержат буквы. Напишите функцию, которая возвращает сумму квадратов элементов, которые могут быть числами."
   ]
  },
  {
   "cell_type": "code",
   "execution_count": 3,
   "metadata": {},
   "outputs": [],
   "source": [
    "data = [1, '5', 'abc', 20, '2']"
   ]
  },
  {
   "cell_type": "code",
   "execution_count": 4,
   "metadata": {},
   "outputs": [
    {
     "data": {
      "text/plain": [
       "430"
      ]
     },
     "execution_count": 4,
     "metadata": {},
     "output_type": "execute_result"
    }
   ],
   "source": [
    "def square_sum(data):\n",
    "    total_sum = 0\n",
    "    for row in data:\n",
    "        try:\n",
    "            total_sum +=int(row)**2\n",
    "        except:\n",
    "            pass\n",
    "    return total_sum\n",
    "square_sum(data)"
   ]
  },
  {
   "cell_type": "markdown",
   "metadata": {},
   "source": [
    "## Задание 3"
   ]
  },
  {
   "cell_type": "markdown",
   "metadata": {},
   "source": [
    "Напишите функцию, возвращающую сумму первых n чисел Фибоначчи."
   ]
  },
  {
   "cell_type": "code",
   "execution_count": 5,
   "metadata": {},
   "outputs": [
    {
     "name": "stdout",
     "output_type": "stream",
     "text": [
      "55\n"
     ]
    }
   ],
   "source": [
    "def fibonacci(n):\n",
    "    if n in (1, 2):\n",
    "        return 1\n",
    "    return fibonacci(n - 1) + fibonacci(n - 2)\n",
    " \n",
    "print(fibonacci(10))"
   ]
  },
  {
   "cell_type": "markdown",
   "metadata": {},
   "source": [
    "## Задание 4"
   ]
  },
  {
   "cell_type": "markdown",
   "metadata": {},
   "source": [
    "Дан набор данных об обучении студентов на курсе программирования, который содержит: \n",
    "1) имя\n",
    "2) фамилию \n",
    "3) пол \n",
    "4) наличие у студента опыта в программировании \n",
    "5) набор оценок за домашние работы \n",
    "6) оценку за итоговую работу.\n",
    "\n",
    "Напишите программу, которая будет принимать команду от пользователя и возвращать соотвествующий результат.\n",
    "Список команд: \n",
    "1 - вывести на экран среднюю оценку за все ДЗ по группе и вывести на экран среднюю оценку за экзамен по группе;\n",
    "2 - вывести среднюю оценку за ДЗ и за экзамен по группе в разрезе пола студентов\n",
    "3 - вывести среднюю оценку за ДЗ и за экзамен в разрезе наличия опыта в программировании у студентов.\n",
    "\n",
    "Прогрмма должна быть полностью декомпозирована на функции (кроме объявления функций и вызова итоговой функции в реализации ничего быть не должно)."
   ]
  },
  {
   "cell_type": "code",
   "execution_count": 6,
   "metadata": {},
   "outputs": [],
   "source": [
    "students_list = [\n",
    "    {'name': 'Василий', 'surname': 'Теркин', 'sex': 'м', 'program_exp': True, 'grade': [8, 8, 9, 10, 9], 'exam': 9},\n",
    "    {'name': 'Мария', 'surname': 'Павлова', 'sex': 'ж', 'program_exp': True, 'grade': [7, 8, 9, 7, 9], 'exam': 8},\n",
    "    {'name': 'Ирина', 'surname': 'Андреева', 'sex': 'ж', 'program_exp': True, 'grade': [10, 9, 8, 10, 10], 'exam': 10},\n",
    "    {'name': 'Татьяна', 'surname': 'Сидорова', 'sex': 'ж', 'program_exp': True, 'grade': [7, 8, 8, 9, 8], 'exam': 8},\n",
    "    {'name': 'Иван', 'surname': 'Васильев', 'sex': 'ж', 'program_exp': True, 'grade': [9, 8, 9, 6, 9], 'exam': 10},\n",
    "    {'name': 'Роман', 'surname': 'Золотарев', 'sex': 'ж', 'program_exp': False, 'grade': [8, 9, 9, 6, 9], 'exam': 10}\n",
    "]"
   ]
  },
  {
   "cell_type": "code",
   "execution_count": null,
   "metadata": {},
   "outputs": [
    {
     "name": "stdout",
     "output_type": "stream",
     "text": [
      "введите команду: 1 - показать средние результаты по группеб 2 - показать средние результаты по мужчинам-студентам, 3 - показать результаты по женщинам-студентам, 4 - показать результаты по студентам с опытом програмирования, 5 - показать результаты по студентам без опыта програмиирования6\n",
      "ошибка\n",
      "введите команду: 1 - показать средние результаты по группеб 2 - показать средние результаты по мужчинам-студентам, 3 - показать результаты по женщинам-студентам, 4 - показать результаты по студентам с опытом програмирования, 5 - показать результаты по студентам без опыта програмиирования2\n",
      "Средняя оценка для мужчин: за экзамен  9.0 за все ДЗ 8.8\n"
     ]
    }
   ],
   "source": [
    "# общее среднее\n",
    "def mean_ex_hm(data):\n",
    "    sum_ex = 0\n",
    "    sum_hm = 0\n",
    "    for row in data:\n",
    "        sum_ex+= row['exam']\n",
    "        sum_hm+= sum(row['grade'])/len(row['grade'])\n",
    "    print(f'Средняя оценка по группе за экзамен {round(sum_ex/len(data),2)} и за все ДЗ {round(sum_hm/len(data),2)}')\n",
    "\n",
    "mean_ex_hm(students_list)\n",
    "\n",
    "# среднее по полу\n",
    "def sex_mean_ex_hm(data,sex):\n",
    "    sum_ex = 0\n",
    "    sum_hm = 0\n",
    "    count = 0\n",
    "    for row in data:\n",
    "        if sex==row['sex']:\n",
    "            sum_ex+= row['exam']\n",
    "            sum_hm+= sum(row['grade'])/len(row['grade'])\n",
    "            count +=1\n",
    "    if sex=='ж':\n",
    "        print(f'Средняя оценка для женщин: за экзамен  {round(sum_ex/count,2)} за все ДЗ {round(sum_hm/count,2)}')\n",
    "    else:\n",
    "        print(f'Средняя оценка для мужчин: за экзамен  {round(sum_ex/count,2)} за все ДЗ {round(sum_hm/count,2)}')\n",
    "        \n",
    "sex_mean_ex_hm(students_list,'м') \n",
    "\n",
    "# среднее по знанию пк\n",
    "\n",
    "def it_mean_ex_hm(data,exp):\n",
    "    sum_ex = 0\n",
    "    sum_hm = 0\n",
    "    count = 0\n",
    "    for row in data:\n",
    "        if exp==row['program_exp']:\n",
    "            sum_ex+= row['exam']\n",
    "            sum_hm+= sum(row['grade'])/len(row['grade'])\n",
    "            count +=1\n",
    "    if exp==True:\n",
    "        print(f'Средняя оценка студентов с опытом программирования: за экзамен  {round(sum_ex/count,2)} за все ДЗ {round(sum_hm/count,2)}')\n",
    "    else:\n",
    "        print(f'Средняя оценка студентов без опыта программирования  {round(sum_ex/count,2)} за все ДЗ {round(sum_hm/count,2)}')\n",
    "        \n",
    "it_mean_ex_hm(students_list, True) \n",
    "\n",
    "# общее\n",
    "def main():\n",
    "    while True:\n",
    "        user_input = input('введите команду: 1 - показать средние результаты по группеб 2 - показать средние результаты по мужчинам-студентам, 3 - показать результаты по женщинам-студентам, 4 - показать результаты по студентам с опытом програмирования, 5 - показать результаты по студентам без опыта програмиирования' )\n",
    "        if user_input == '1':\n",
    "                mean_ex_hm(students_list)\n",
    "        elif user_input == '2':\n",
    "                sex_mean_ex_hm(students_list,'м') \n",
    "        elif user_input == '3':\n",
    "                sex_mean_ex_hm(students_list,'ж')\n",
    "        elif user_input == '4':\n",
    "                it_mean_ex_hm(students_list, True) \n",
    "        elif user_input == '5':\n",
    "                it_mean_ex_hm(students_list, False)\n",
    "        else:\n",
    "                print('ошибка')\n",
    "main()\n",
    "\n",
    " # не поняла, но при попытке разделить текст через \\ выдавалась ошибка        "
   ]
  },
  {
   "cell_type": "code",
   "execution_count": null,
   "metadata": {},
   "outputs": [],
   "source": [
    "\n"
   ]
  }
 ],
 "metadata": {
  "kernelspec": {
   "display_name": "Python 3",
   "language": "python",
   "name": "python3"
  },
  "language_info": {
   "codemirror_mode": {
    "name": "ipython",
    "version": 3
   },
   "file_extension": ".py",
   "mimetype": "text/x-python",
   "name": "python",
   "nbconvert_exporter": "python",
   "pygments_lexer": "ipython3",
   "version": "3.7.3"
  }
 },
 "nbformat": 4,
 "nbformat_minor": 2
}
