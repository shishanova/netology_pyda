{
 "cells": [
  {
   "cell_type": "markdown",
   "metadata": {},
   "source": [
    "# Домашнее задание 6"
   ]
  },
  {
   "cell_type": "markdown",
   "metadata": {},
   "source": [
    "###  Задание 1\n",
    "Скачайте с сайта https://grouplens.org/datasets/movielens/ датасет любого размера. Определите какому фильму было выставлено больше всего оценок 5.0."
   ]
  },
  {
   "cell_type": "code",
   "execution_count": 32,
   "metadata": {},
   "outputs": [],
   "source": [
    "import pandas as pd"
   ]
  },
  {
   "cell_type": "code",
   "execution_count": 23,
   "metadata": {
    "scrolled": true
   },
   "outputs": [
    {
     "data": {
      "text/plain": [
       "318    31896\n",
       "Name: movieId, dtype: int64"
      ]
     },
     "execution_count": 23,
     "metadata": {},
     "output_type": "execute_result"
    }
   ],
   "source": [
    "data = pd.read_csv('ratings.csv')\n",
    "data.head()\n",
    "table = data[ data.rating == 5.0 ]\n",
    "table['movieId'].value_counts().head(1)"
   ]
  },
  {
   "cell_type": "markdown",
   "metadata": {},
   "source": [
    "### Задание 2\n",
    "По данным файла power.csv посчитайте суммарное потребление стран Прибалтики (Латвия, Литва и Эстония) категорий 4, 12 и 21 за период с 2005 по 2010 года. Не учитывайте в расчетах отрицательные значения quantity."
   ]
  },
  {
   "cell_type": "code",
   "execution_count": 25,
   "metadata": {},
   "outputs": [
    {
     "data": {
      "text/plain": [
       "array(['Austria', 'Czechia', 'Romania', 'Serbia', 'Slovakia', 'Bulgaria',\n",
       "       'Croatia', 'Lithuania', 'Other Asia', 'T.F.Yug.Rep. Macedonia',\n",
       "       'Colombia', 'Australia', 'Ethiopia', 'Serbia and Montenegro',\n",
       "       'Tunisia', 'Georgia', 'Latvia', 'Armenia', 'Russian Federation',\n",
       "       'Bolivia (Plur. State of)', 'Estonia', 'Ethiopia, incl. Eritrea',\n",
       "       'French Guiana', 'Indonesia', 'Liberia', 'Malaysia', 'Mauritania',\n",
       "       'Namibia', 'New Caledonia', 'Slovenia', 'United Rep. of Tanzania',\n",
       "       'Yugoslavia, SFR (former)', 'Zambia', 'Algeria',\n",
       "       'French Polynesia', 'Syrian Arab Republic', 'India', 'Nigeria',\n",
       "       'Somalia', 'Albania', 'Bosnia and Herzegovina',\n",
       "       'Czechoslovakia (former)', 'Equatorial Guinea', 'Saudi Arabia',\n",
       "       'St. Lucia', 'Mongolia', 'Cambodia', 'Gambia',\n",
       "       'Micronesia (Fed. States of)', 'Northern Mariana Islands'],\n",
       "      dtype=object)"
      ]
     },
     "execution_count": 25,
     "metadata": {},
     "output_type": "execute_result"
    }
   ],
   "source": [
    "power = pd.read_csv('power.csv')\n",
    "power.head()\n",
    "power[ power['country'].str.contains('ia', case=False) ]['country'].unique()"
   ]
  },
  {
   "cell_type": "code",
   "execution_count": 80,
   "metadata": {},
   "outputs": [
    {
     "name": "stdout",
     "output_type": "stream",
     "text": [
      "118284.0\n"
     ]
    }
   ],
   "source": [
    "quantity_baltica = power.loc[(power['quantity'] > 0) & power['country'].isin(['Latvia','Estonia','Estonia']) & \\\n",
    "          power['category'].isin([4,12,21]) & power['year'].isin([2005, 2006,2007, 2008, 2009, 2010])]\n",
    "print(sum(quantity_baltica ['quantity']))"
   ]
  },
  {
   "cell_type": "markdown",
   "metadata": {},
   "source": [
    "### Задание 3\n",
    "Выберите страницу любого сайта с табличными данными. Импортируйте таблицы в pandas dataframe.\n",
    "Примеры страниц (необязательно брать именно эти):\n",
    "https://fortrader.org/quotes\n",
    "https://www.finanz.ru/valyuty/v-realnom-vremeni"
   ]
  },
  {
   "cell_type": "code",
   "execution_count": 86,
   "metadata": {},
   "outputs": [
    {
     "data": {
      "text/plain": [
       "[             Место                                           Действие  Страна  \\\n",
       " 0    ADV  AMarkets  ВозможностиОткрыть счётОткрыть демо счетПосмот...     NaN   \n",
       " 1         ADV  БКС                         ВозможностиПерейти на сайт     NaN   \n",
       " 2        1  Exness  ВозможностиОткрыть счётПерейти на сайтПосмотре...     NaN   \n",
       " 3      2  Tickmill  ВозможностиОткрыть счётОткрыть демо счетПерейт...     NaN   \n",
       " 4           3  MFX                                                  _     NaN   \n",
       " 5        4  Alpari  ВозможностиОткрыть счётПерейти на сайтПосмотре...     NaN   \n",
       " 6        5  EverFX                                                  _     NaN   \n",
       " 7     6  ForexMart                                                  _     NaN   \n",
       " 8    7  InstaForex  ВозможностиОткрыть счётПерейти на сайтПосмотре...     NaN   \n",
       " 9  8  Грандкапитал  ВозможностиОткрыть счётОткрыть демо счетПерейт...     NaN   \n",
       " \n",
       "   Мин. депо.                             Регулятор  \n",
       " 0       $100               The Financial Comission  \n",
       " 1         $1    FSA (St. Vincent & the Grenadines)  \n",
       " 2         $0                                 CySEC  \n",
       " 3        $25  Список  FCAFSARepublic of Seychelles  \n",
       " 4         $1   Список  IFSCThe Financial Comission  \n",
       " 5         $0    Список  FSAThe Financial Comission  \n",
       " 6       $300                                 CySEC  \n",
       " 7         $1                    Список  CySECMiFID  \n",
       " 8         $1                                 ЦРФИН  \n",
       " 9        $10                   Список  КРОУФРЦРФИН  ]"
      ]
     },
     "execution_count": 86,
     "metadata": {},
     "output_type": "execute_result"
    }
   ],
   "source": [
    "pd.read_html('https://fortrader.org/brokersrating')"
   ]
  },
  {
   "cell_type": "code",
   "execution_count": null,
   "metadata": {},
   "outputs": [],
   "source": []
  }
 ],
 "metadata": {
  "kernelspec": {
   "display_name": "Python 3",
   "language": "python",
   "name": "python3"
  },
  "language_info": {
   "codemirror_mode": {
    "name": "ipython",
    "version": 3
   },
   "file_extension": ".py",
   "mimetype": "text/x-python",
   "name": "python",
   "nbconvert_exporter": "python",
   "pygments_lexer": "ipython3",
   "version": "3.7.3"
  }
 },
 "nbformat": 4,
 "nbformat_minor": 2
}
